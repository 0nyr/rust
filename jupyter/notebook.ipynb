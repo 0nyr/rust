{
 "cells": [
  {
   "cell_type": "code",
   "execution_count": 14,
   "metadata": {},
   "outputs": [
    {
     "name": "stdout",
     "output_type": "stream",
     "text": [
      "key_bytes: [180, 1, 116, 30, 70, 114, 12, 163, 42, 14, 135, 60]\n",
      "key_bytes len: 12 bytes\n"
     ]
    },
    {
     "data": {
      "text/plain": [
       "()"
      ]
     },
     "execution_count": 14,
     "metadata": {},
     "output_type": "execute_result"
    }
   ],
   "source": [
    ":dep hex = \"0.4\"\n",
    "use hex;\n",
    "\n",
    "\n",
    "let key_hex = \"b401741e46720ca32a0e873c\";\n",
    "let key_bytes: Vec<u8> = hex::decode(key_hex).unwrap();\n",
    "println!(\"key_bytes: {:?}\", key_bytes);\n",
    "println!(\"key_bytes len: {} {}\", key_bytes.len(), \"bytes\")"
   ]
  },
  {
   "cell_type": "code",
   "execution_count": null,
   "metadata": {},
   "outputs": [],
   "source": []
  }
 ],
 "metadata": {
  "kernelspec": {
   "display_name": "Rust",
   "language": "rust",
   "name": "rust"
  },
  "language_info": {
   "codemirror_mode": "rust",
   "file_extension": ".rs",
   "mimetype": "text/rust",
   "name": "Rust",
   "pygment_lexer": "rust",
   "version": ""
  }
 },
 "nbformat": 4,
 "nbformat_minor": 2
}
